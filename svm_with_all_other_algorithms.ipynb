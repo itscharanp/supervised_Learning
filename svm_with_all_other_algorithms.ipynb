{
 "cells": [
  {
   "cell_type": "code",
   "execution_count": 20,
   "metadata": {},
   "outputs": [
    {
     "name": "stdout",
     "output_type": "stream",
     "text": [
      "['i love you', 'i hate you', 'i kill you', 'i love to kill you', 'i admire you']\n",
      "[1, 0, 0, 0, 1]\n"
     ]
    }
   ],
   "source": [
    "f = open('C:/Users/Asus/Desktop/love.txt')\n",
    "lines = f.readlines()\n",
    "text=[]\n",
    "y=[]\n",
    "for line in lines:\n",
    "    w = line.lower().strip().split(',')\n",
    "    text.append(w[0])\n",
    "    l = 0\n",
    "    if w[1]=='pos':\n",
    "        l=1\n",
    "    y.append(l)\n",
    "print(text)\n",
    "print(y)"
   ]
  },
  {
   "cell_type": "code",
   "execution_count": 21,
   "metadata": {},
   "outputs": [],
   "source": [
    "def tfidf(text):\n",
    "    from sklearn.feature_extraction.text import TfidfVectorizer\n",
    "    vec = TfidfVectorizer()\n",
    "    vec.fit(text)\n",
    "    v = vec.transform(text).toarray()\n",
    "    return v"
   ]
  },
  {
   "cell_type": "code",
   "execution_count": 22,
   "metadata": {},
   "outputs": [
    {
     "name": "stdout",
     "output_type": "stream",
     "text": [
      "[[0.         0.         0.         0.861037   0.         0.50854232]\n",
      " [0.         0.90275015 0.         0.         0.         0.43016528]\n",
      " [0.         0.         0.861037   0.         0.         0.50854232]\n",
      " [0.         0.         0.50733821 0.50733821 0.62883263 0.29964212]\n",
      " [0.90275015 0.         0.         0.         0.         0.43016528]]\n"
     ]
    }
   ],
   "source": [
    "x=tfidf(text)\n",
    "print(x)"
   ]
  },
  {
   "cell_type": "code",
   "execution_count": 23,
   "metadata": {},
   "outputs": [
    {
     "name": "stdout",
     "output_type": "stream",
     "text": [
      "[1, 0, 0, 0, 1]\n",
      "[0 0 0 0 0]\n"
     ]
    },
    {
     "name": "stderr",
     "output_type": "stream",
     "text": [
      "C:\\Users\\Asus\\Anaconda3\\lib\\site-packages\\sklearn\\svm\\base.py:196: FutureWarning: The default value of gamma will change from 'auto' to 'scale' in version 0.22 to account better for unscaled features. Set gamma explicitly to 'auto' or 'scale' to avoid this warning.\n",
      "  \"avoid this warning.\", FutureWarning)\n"
     ]
    }
   ],
   "source": [
    "#from sklearn.svm import svc\n",
    "from sklearn.svm import SVC\n",
    "model = SVC()\n",
    "model.fit(x,y)\n",
    "ycap = model.predict(x)\n",
    "print(y)\n",
    "print(ycap)"
   ]
  },
  {
   "cell_type": "code",
   "execution_count": 25,
   "metadata": {},
   "outputs": [
    {
     "data": {
      "text/plain": [
       "0.6"
      ]
     },
     "execution_count": 25,
     "metadata": {},
     "output_type": "execute_result"
    }
   ],
   "source": [
    "from sklearn.metrics import accuracy_score\n",
    "accuracy_score( y,ycap)"
   ]
  },
  {
   "cell_type": "code",
   "execution_count": 26,
   "metadata": {},
   "outputs": [
    {
     "data": {
      "text/plain": [
       "1.0"
      ]
     },
     "execution_count": 26,
     "metadata": {},
     "output_type": "execute_result"
    }
   ],
   "source": [
    "from sklearn.tree import DecisionTreeClassifier\n",
    "m = DecisionTreeClassifier()\n",
    "m.fit(x,y)\n",
    "ycap1 = m.predict(x)\n",
    "accuracy_score(y,ycap1)\n"
   ]
  },
  {
   "cell_type": "code",
   "execution_count": 29,
   "metadata": {},
   "outputs": [
    {
     "data": {
      "text/plain": [
       "1.0"
      ]
     },
     "execution_count": 29,
     "metadata": {},
     "output_type": "execute_result"
    }
   ],
   "source": [
    "#from sklearn.naive_bayes import gaussianNB\n",
    "from sklearn.naive_bayes import GaussianNB\n",
    "md=GaussianNB()\n",
    "md.fit(x,y)\n",
    "ycap2 = md.predict(x)\n",
    "accuracy_score(y,ycap2)"
   ]
  },
  {
   "cell_type": "code",
   "execution_count": 30,
   "metadata": {},
   "outputs": [
    {
     "name": "stderr",
     "output_type": "stream",
     "text": [
      "C:\\Users\\Asus\\Anaconda3\\lib\\site-packages\\sklearn\\ensemble\\forest.py:246: FutureWarning: The default value of n_estimators will change from 10 in version 0.20 to 100 in 0.22.\n",
      "  \"10 in version 0.20 to 100 in 0.22.\", FutureWarning)\n"
     ]
    },
    {
     "data": {
      "text/plain": [
       "1.0"
      ]
     },
     "execution_count": 30,
     "metadata": {},
     "output_type": "execute_result"
    }
   ],
   "source": [
    "from sklearn.ensemble import RandomForestClassifier\n",
    "md1 = RandomForestClassifier()\n",
    "md1.fit(x,y)\n",
    "ycap3 = md1.predict(x)\n",
    "accuracy_score(y,ycap3)"
   ]
  },
  {
   "cell_type": "markdown",
   "metadata": {},
   "source": [
    "i love you,pos\n",
    "i hate you,neg\n",
    "i kill you,neg\n",
    "i love to kill you,neg\n",
    "i admire you,pos\n"
   ]
  }
 ],
 "metadata": {
  "kernelspec": {
   "display_name": "Python 3",
   "language": "python",
   "name": "python3"
  },
  "language_info": {
   "codemirror_mode": {
    "name": "ipython",
    "version": 3
   },
   "file_extension": ".py",
   "mimetype": "text/x-python",
   "name": "python",
   "nbconvert_exporter": "python",
   "pygments_lexer": "ipython3",
   "version": "3.7.3"
  }
 },
 "nbformat": 4,
 "nbformat_minor": 2
}
