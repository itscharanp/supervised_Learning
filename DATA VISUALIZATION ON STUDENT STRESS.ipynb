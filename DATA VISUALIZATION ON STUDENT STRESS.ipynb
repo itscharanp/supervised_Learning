{
 "cells": [
  {
   "cell_type": "code",
   "execution_count": 13,
   "metadata": {},
   "outputs": [],
   "source": [
    "import pandas as pd"
   ]
  },
  {
   "cell_type": "code",
   "execution_count": 14,
   "metadata": {},
   "outputs": [],
   "source": [
    "stress = pd.read_csv('C:/Users/welcome/Desktop/StudentStress.csv')"
   ]
  },
  {
   "cell_type": "code",
   "execution_count": 15,
   "metadata": {},
   "outputs": [
    {
     "data": {
      "text/html": [
       "<div>\n",
       "<style scoped>\n",
       "    .dataframe tbody tr th:only-of-type {\n",
       "        vertical-align: middle;\n",
       "    }\n",
       "\n",
       "    .dataframe tbody tr th {\n",
       "        vertical-align: top;\n",
       "    }\n",
       "\n",
       "    .dataframe thead th {\n",
       "        text-align: right;\n",
       "    }\n",
       "</style>\n",
       "<table border=\"1\" class=\"dataframe\">\n",
       "  <thead>\n",
       "    <tr style=\"text-align: right;\">\n",
       "      <th></th>\n",
       "      <th>Institution</th>\n",
       "      <th>Branch</th>\n",
       "      <th>Gender</th>\n",
       "      <th>Class Level</th>\n",
       "      <th>Stress Level</th>\n",
       "      <th>Stress Causes</th>\n",
       "      <th>Physological effects</th>\n",
       "      <th>Physical  Effects</th>\n",
       "      <th>Social Effects</th>\n",
       "      <th>Relieve Stress Methods</th>\n",
       "    </tr>\n",
       "  </thead>\n",
       "  <tbody>\n",
       "    <tr>\n",
       "      <th>0</th>\n",
       "      <td>Vellore institute of technology</td>\n",
       "      <td>IT</td>\n",
       "      <td>Male</td>\n",
       "      <td>Freshman (Undergrad)</td>\n",
       "      <td>8</td>\n",
       "      <td>Family issues</td>\n",
       "      <td>Anxlety or fear</td>\n",
       "      <td>Increased blood pressure</td>\n",
       "      <td>Intolerance of group process</td>\n",
       "      <td>Sleeping</td>\n",
       "    </tr>\n",
       "    <tr>\n",
       "      <th>1</th>\n",
       "      <td>VIT Vellore</td>\n",
       "      <td>ECE</td>\n",
       "      <td>Male</td>\n",
       "      <td>Senior (Undergrad)</td>\n",
       "      <td>4</td>\n",
       "      <td>Studies issues</td>\n",
       "      <td>Sadness, moodiness, grief or depression</td>\n",
       "      <td>Feeling uncoordinated</td>\n",
       "      <td>Intolerance of group process</td>\n",
       "      <td>Computer Games</td>\n",
       "    </tr>\n",
       "    <tr>\n",
       "      <th>2</th>\n",
       "      <td>VIT Vellore</td>\n",
       "      <td>Mechanical</td>\n",
       "      <td>Male</td>\n",
       "      <td>Senior (Undergrad)</td>\n",
       "      <td>8</td>\n",
       "      <td>Studies issues</td>\n",
       "      <td>Sadness, moodiness, grief or depression</td>\n",
       "      <td>Headache</td>\n",
       "      <td>Difficulty in giving or accepting support or help</td>\n",
       "      <td>Social Media</td>\n",
       "    </tr>\n",
       "    <tr>\n",
       "      <th>3</th>\n",
       "      <td>Vellore institute of technology</td>\n",
       "      <td>IT</td>\n",
       "      <td>Male</td>\n",
       "      <td>Senior (Undergrad)</td>\n",
       "      <td>1</td>\n",
       "      <td>My involvement in clubs and organizations</td>\n",
       "      <td>Irritability or anger</td>\n",
       "      <td>Feeling uncoordinated</td>\n",
       "      <td>Blaming</td>\n",
       "      <td>Eating</td>\n",
       "    </tr>\n",
       "    <tr>\n",
       "      <th>4</th>\n",
       "      <td>IIT Madras</td>\n",
       "      <td>EE</td>\n",
       "      <td>Male</td>\n",
       "      <td>Senior (Undergrad)</td>\n",
       "      <td>6</td>\n",
       "      <td>Financial issues</td>\n",
       "      <td>Denial</td>\n",
       "      <td>Feeling uncoordinated</td>\n",
       "      <td>Withdrawing or isolating from people</td>\n",
       "      <td>Sports / Exercise</td>\n",
       "    </tr>\n",
       "    <tr>\n",
       "      <th>5</th>\n",
       "      <td>NIT Agartala</td>\n",
       "      <td>ECE</td>\n",
       "      <td>Male</td>\n",
       "      <td>Senior (Undergrad)</td>\n",
       "      <td>5</td>\n",
       "      <td>Studies issues</td>\n",
       "      <td>Anxlety or fear</td>\n",
       "      <td>Increased heart rate and respirations</td>\n",
       "      <td>Blaming</td>\n",
       "      <td>Drinking</td>\n",
       "    </tr>\n",
       "    <tr>\n",
       "      <th>6</th>\n",
       "      <td>IIT tirupati</td>\n",
       "      <td>CSE</td>\n",
       "      <td>Male</td>\n",
       "      <td>Sophomore (Undergrad)</td>\n",
       "      <td>6</td>\n",
       "      <td>Family issues</td>\n",
       "      <td>Anxlety or fear</td>\n",
       "      <td>Feeling uncoordinated</td>\n",
       "      <td>Difficulty sharing ideas</td>\n",
       "      <td>Talking with someone</td>\n",
       "    </tr>\n",
       "    <tr>\n",
       "      <th>7</th>\n",
       "      <td>VIT Vellore</td>\n",
       "      <td>CSE</td>\n",
       "      <td>Male</td>\n",
       "      <td>Freshman (Undergrad)</td>\n",
       "      <td>5</td>\n",
       "      <td>Friends issues</td>\n",
       "      <td>Irritability or anger</td>\n",
       "      <td>Increased heart rate and respirations</td>\n",
       "      <td>Difficulty listening</td>\n",
       "      <td>Sports / Exercise</td>\n",
       "    </tr>\n",
       "    <tr>\n",
       "      <th>8</th>\n",
       "      <td>VIT Vellore</td>\n",
       "      <td>IT</td>\n",
       "      <td>Male</td>\n",
       "      <td>Freshman (Undergrad)</td>\n",
       "      <td>5</td>\n",
       "      <td>Family issues</td>\n",
       "      <td>Denial</td>\n",
       "      <td>Increased or decreased appetite which may be a...</td>\n",
       "      <td>Difficulty sharing ideas</td>\n",
       "      <td>Sleeping</td>\n",
       "    </tr>\n",
       "    <tr>\n",
       "      <th>9</th>\n",
       "      <td>VIT Vellore</td>\n",
       "      <td>IT</td>\n",
       "      <td>Male</td>\n",
       "      <td>Freshman (Undergrad)</td>\n",
       "      <td>5</td>\n",
       "      <td>Family issues</td>\n",
       "      <td>Denial</td>\n",
       "      <td>Increased or decreased appetite which may be a...</td>\n",
       "      <td>Difficulty sharing ideas</td>\n",
       "      <td>Sleeping</td>\n",
       "    </tr>\n",
       "    <tr>\n",
       "      <th>10</th>\n",
       "      <td>VIT Vellore</td>\n",
       "      <td>IT</td>\n",
       "      <td>Male</td>\n",
       "      <td>Junior (Undergrad)</td>\n",
       "      <td>5</td>\n",
       "      <td>Family issues</td>\n",
       "      <td>Irritability or anger</td>\n",
       "      <td>Increased blood pressure</td>\n",
       "      <td>Difficulty listening</td>\n",
       "      <td>Sleeping</td>\n",
       "    </tr>\n",
       "    <tr>\n",
       "      <th>11</th>\n",
       "      <td>VIT Vellore</td>\n",
       "      <td>IT</td>\n",
       "      <td>Male</td>\n",
       "      <td>Junior (Undergrad)</td>\n",
       "      <td>5</td>\n",
       "      <td>Family issues</td>\n",
       "      <td>Irritability or anger</td>\n",
       "      <td>Increased blood pressure</td>\n",
       "      <td>Difficulty listening</td>\n",
       "      <td>Sleeping</td>\n",
       "    </tr>\n",
       "    <tr>\n",
       "      <th>12</th>\n",
       "      <td>IIT patna</td>\n",
       "      <td>EE</td>\n",
       "      <td>Male</td>\n",
       "      <td>Freshman (Undergrad)</td>\n",
       "      <td>5</td>\n",
       "      <td>Work (job-related) issues</td>\n",
       "      <td>Anxlety or fear</td>\n",
       "      <td>Flare up of allergies, asthma, or arthritis</td>\n",
       "      <td>Difficulty sharing ideas</td>\n",
       "      <td>Drinking</td>\n",
       "    </tr>\n",
       "    <tr>\n",
       "      <th>13</th>\n",
       "      <td>VIT Vellore</td>\n",
       "      <td>IT</td>\n",
       "      <td>Male</td>\n",
       "      <td>Senior (Undergrad)</td>\n",
       "      <td>5</td>\n",
       "      <td>Family issues</td>\n",
       "      <td>Anxlety or fear</td>\n",
       "      <td>Increased blood pressure</td>\n",
       "      <td>Difficulty listening</td>\n",
       "      <td>Sports / Exercise</td>\n",
       "    </tr>\n",
       "    <tr>\n",
       "      <th>14</th>\n",
       "      <td>VIT Vellore</td>\n",
       "      <td>IT</td>\n",
       "      <td>Male</td>\n",
       "      <td>Sophomore (Undergrad)</td>\n",
       "      <td>5</td>\n",
       "      <td>Financial issues</td>\n",
       "      <td>Anxlety or fear</td>\n",
       "      <td>Upset stomach, nausea, diarrhea</td>\n",
       "      <td>Difficulty sharing ideas</td>\n",
       "      <td>Sports / Exercise</td>\n",
       "    </tr>\n",
       "    <tr>\n",
       "      <th>15</th>\n",
       "      <td>GRIET</td>\n",
       "      <td>ECE</td>\n",
       "      <td>Male</td>\n",
       "      <td>Junior (Undergrad)</td>\n",
       "      <td>2</td>\n",
       "      <td>Health Related Issues</td>\n",
       "      <td>Irritability or anger</td>\n",
       "      <td>Increased or decreased appetite which may be a...</td>\n",
       "      <td>Difficulty sharing ideas</td>\n",
       "      <td>Social Media</td>\n",
       "    </tr>\n",
       "    <tr>\n",
       "      <th>16</th>\n",
       "      <td>VIT Vellore</td>\n",
       "      <td>IT</td>\n",
       "      <td>Male</td>\n",
       "      <td>Senior (Undergrad)</td>\n",
       "      <td>2</td>\n",
       "      <td>Financial issues</td>\n",
       "      <td>Anxlety or fear</td>\n",
       "      <td>Feeling uncoordinated</td>\n",
       "      <td>Difficulty sharing ideas</td>\n",
       "      <td>Sleeping</td>\n",
       "    </tr>\n",
       "    <tr>\n",
       "      <th>17</th>\n",
       "      <td>VIT Vellore</td>\n",
       "      <td>CSE</td>\n",
       "      <td>Male</td>\n",
       "      <td>Freshman (Undergrad)</td>\n",
       "      <td>4</td>\n",
       "      <td>Studies issues</td>\n",
       "      <td>Anxlety or fear</td>\n",
       "      <td>Increased heart rate and respirations</td>\n",
       "      <td>Withdrawing or isolating from people</td>\n",
       "      <td>Eating</td>\n",
       "    </tr>\n",
       "    <tr>\n",
       "      <th>18</th>\n",
       "      <td>VIT Vellore</td>\n",
       "      <td>IT</td>\n",
       "      <td>Male</td>\n",
       "      <td>Graduate student</td>\n",
       "      <td>5</td>\n",
       "      <td>Friends issues</td>\n",
       "      <td>Anxlety or fear</td>\n",
       "      <td>Increased heart rate and respirations</td>\n",
       "      <td>Blaming</td>\n",
       "      <td>Sleeping</td>\n",
       "    </tr>\n",
       "    <tr>\n",
       "      <th>19</th>\n",
       "      <td>VIT Vellore</td>\n",
       "      <td>IT</td>\n",
       "      <td>Female</td>\n",
       "      <td>Junior (Undergrad)</td>\n",
       "      <td>10</td>\n",
       "      <td>Studies issues</td>\n",
       "      <td>Restlessness</td>\n",
       "      <td>Increased heart rate and respirations</td>\n",
       "      <td>Withdrawing or isolating from people</td>\n",
       "      <td>Sleeping</td>\n",
       "    </tr>\n",
       "  </tbody>\n",
       "</table>\n",
       "</div>"
      ],
      "text/plain": [
       "                        Institution      Branch Gender   \\\n",
       "0   Vellore institute of technology          IT    Male   \n",
       "1                       VIT Vellore         ECE    Male   \n",
       "2                       VIT Vellore  Mechanical    Male   \n",
       "3   Vellore institute of technology         IT     Male   \n",
       "4                        IIT Madras          EE    Male   \n",
       "5                      NIT Agartala         ECE    Male   \n",
       "6                      IIT tirupati         CSE    Male   \n",
       "7                       VIT Vellore         CSE    Male   \n",
       "8                      VIT Vellore           IT    Male   \n",
       "9                      VIT Vellore           IT    Male   \n",
       "10                      VIT Vellore          IT    Male   \n",
       "11                      VIT Vellore          IT    Male   \n",
       "12                        IIT patna          EE    Male   \n",
       "13                      VIT Vellore          IT    Male   \n",
       "14                     VIT Vellore           IT    Male   \n",
       "15                            GRIET         ECE    Male   \n",
       "16                      VIT Vellore          IT    Male   \n",
       "17                      VIT Vellore         CSE    Male   \n",
       "18                      VIT Vellore          IT    Male   \n",
       "19                      VIT Vellore          IT  Female   \n",
       "\n",
       "              Class Level  Stress Level  \\\n",
       "0    Freshman (Undergrad)             8   \n",
       "1      Senior (Undergrad)             4   \n",
       "2      Senior (Undergrad)             8   \n",
       "3      Senior (Undergrad)             1   \n",
       "4      Senior (Undergrad)             6   \n",
       "5      Senior (Undergrad)             5   \n",
       "6   Sophomore (Undergrad)             6   \n",
       "7    Freshman (Undergrad)             5   \n",
       "8    Freshman (Undergrad)             5   \n",
       "9    Freshman (Undergrad)             5   \n",
       "10     Junior (Undergrad)             5   \n",
       "11     Junior (Undergrad)             5   \n",
       "12   Freshman (Undergrad)             5   \n",
       "13     Senior (Undergrad)             5   \n",
       "14  Sophomore (Undergrad)             5   \n",
       "15     Junior (Undergrad)             2   \n",
       "16     Senior (Undergrad)             2   \n",
       "17   Freshman (Undergrad)             4   \n",
       "18       Graduate student             5   \n",
       "19     Junior (Undergrad)            10   \n",
       "\n",
       "                                Stress Causes  \\\n",
       "0                               Family issues   \n",
       "1                              Studies issues   \n",
       "2                              Studies issues   \n",
       "3   My involvement in clubs and organizations   \n",
       "4                            Financial issues   \n",
       "5                              Studies issues   \n",
       "6                               Family issues   \n",
       "7                              Friends issues   \n",
       "8                               Family issues   \n",
       "9                               Family issues   \n",
       "10                              Family issues   \n",
       "11                              Family issues   \n",
       "12                  Work (job-related) issues   \n",
       "13                              Family issues   \n",
       "14                           Financial issues   \n",
       "15                      Health Related Issues   \n",
       "16                           Financial issues   \n",
       "17                             Studies issues   \n",
       "18                             Friends issues   \n",
       "19                             Studies issues   \n",
       "\n",
       "                       Physological effects  \\\n",
       "0                           Anxlety or fear   \n",
       "1   Sadness, moodiness, grief or depression   \n",
       "2   Sadness, moodiness, grief or depression   \n",
       "3                     Irritability or anger   \n",
       "4                                    Denial   \n",
       "5                           Anxlety or fear   \n",
       "6                           Anxlety or fear   \n",
       "7                     Irritability or anger   \n",
       "8                                    Denial   \n",
       "9                                    Denial   \n",
       "10                    Irritability or anger   \n",
       "11                    Irritability or anger   \n",
       "12                          Anxlety or fear   \n",
       "13                          Anxlety or fear   \n",
       "14                          Anxlety or fear   \n",
       "15                    Irritability or anger   \n",
       "16                          Anxlety or fear   \n",
       "17                          Anxlety or fear   \n",
       "18                          Anxlety or fear   \n",
       "19                             Restlessness   \n",
       "\n",
       "                                   Physical  Effects   \\\n",
       "0                            Increased blood pressure   \n",
       "1                               Feeling uncoordinated   \n",
       "2                                            Headache   \n",
       "3                               Feeling uncoordinated   \n",
       "4                               Feeling uncoordinated   \n",
       "5               Increased heart rate and respirations   \n",
       "6                               Feeling uncoordinated   \n",
       "7               Increased heart rate and respirations   \n",
       "8   Increased or decreased appetite which may be a...   \n",
       "9   Increased or decreased appetite which may be a...   \n",
       "10                           Increased blood pressure   \n",
       "11                           Increased blood pressure   \n",
       "12        Flare up of allergies, asthma, or arthritis   \n",
       "13                           Increased blood pressure   \n",
       "14                    Upset stomach, nausea, diarrhea   \n",
       "15  Increased or decreased appetite which may be a...   \n",
       "16                              Feeling uncoordinated   \n",
       "17              Increased heart rate and respirations   \n",
       "18              Increased heart rate and respirations   \n",
       "19              Increased heart rate and respirations   \n",
       "\n",
       "                                       Social Effects Relieve Stress Methods  \n",
       "0                        Intolerance of group process               Sleeping  \n",
       "1                        Intolerance of group process         Computer Games  \n",
       "2   Difficulty in giving or accepting support or help           Social Media  \n",
       "3                                             Blaming                 Eating  \n",
       "4                Withdrawing or isolating from people      Sports / Exercise  \n",
       "5                                             Blaming               Drinking  \n",
       "6                            Difficulty sharing ideas   Talking with someone  \n",
       "7                                Difficulty listening      Sports / Exercise  \n",
       "8                            Difficulty sharing ideas               Sleeping  \n",
       "9                            Difficulty sharing ideas               Sleeping  \n",
       "10                               Difficulty listening               Sleeping  \n",
       "11                               Difficulty listening               Sleeping  \n",
       "12                           Difficulty sharing ideas               Drinking  \n",
       "13                               Difficulty listening      Sports / Exercise  \n",
       "14                           Difficulty sharing ideas      Sports / Exercise  \n",
       "15                           Difficulty sharing ideas           Social Media  \n",
       "16                           Difficulty sharing ideas               Sleeping  \n",
       "17               Withdrawing or isolating from people                 Eating  \n",
       "18                                            Blaming               Sleeping  \n",
       "19               Withdrawing or isolating from people               Sleeping  "
      ]
     },
     "execution_count": 15,
     "metadata": {},
     "output_type": "execute_result"
    }
   ],
   "source": [
    "stress.head(20)"
   ]
  },
  {
   "cell_type": "code",
   "execution_count": 16,
   "metadata": {},
   "outputs": [],
   "source": [
    "import numpy as np"
   ]
  },
  {
   "cell_type": "code",
   "execution_count": 17,
   "metadata": {},
   "outputs": [],
   "source": [
    "stress_num=stress.select_dtypes(include=[np.number])\n",
    "stress_char=stress.select_dtypes(include=[object])"
   ]
  },
  {
   "cell_type": "code",
   "execution_count": 18,
   "metadata": {},
   "outputs": [
    {
     "data": {
      "text/html": [
       "<div>\n",
       "<style scoped>\n",
       "    .dataframe tbody tr th:only-of-type {\n",
       "        vertical-align: middle;\n",
       "    }\n",
       "\n",
       "    .dataframe tbody tr th {\n",
       "        vertical-align: top;\n",
       "    }\n",
       "\n",
       "    .dataframe thead th {\n",
       "        text-align: right;\n",
       "    }\n",
       "</style>\n",
       "<table border=\"1\" class=\"dataframe\">\n",
       "  <thead>\n",
       "    <tr style=\"text-align: right;\">\n",
       "      <th></th>\n",
       "      <th>Stress Level</th>\n",
       "    </tr>\n",
       "  </thead>\n",
       "  <tbody>\n",
       "    <tr>\n",
       "      <th>0</th>\n",
       "      <td>8</td>\n",
       "    </tr>\n",
       "    <tr>\n",
       "      <th>1</th>\n",
       "      <td>4</td>\n",
       "    </tr>\n",
       "    <tr>\n",
       "      <th>2</th>\n",
       "      <td>8</td>\n",
       "    </tr>\n",
       "    <tr>\n",
       "      <th>3</th>\n",
       "      <td>1</td>\n",
       "    </tr>\n",
       "  </tbody>\n",
       "</table>\n",
       "</div>"
      ],
      "text/plain": [
       "   Stress Level\n",
       "0             8\n",
       "1             4\n",
       "2             8\n",
       "3             1"
      ]
     },
     "execution_count": 18,
     "metadata": {},
     "output_type": "execute_result"
    }
   ],
   "source": [
    "stress_num.head(4)"
   ]
  },
  {
   "cell_type": "code",
   "execution_count": 19,
   "metadata": {
    "scrolled": true
   },
   "outputs": [
    {
     "data": {
      "text/html": [
       "<div>\n",
       "<style scoped>\n",
       "    .dataframe tbody tr th:only-of-type {\n",
       "        vertical-align: middle;\n",
       "    }\n",
       "\n",
       "    .dataframe tbody tr th {\n",
       "        vertical-align: top;\n",
       "    }\n",
       "\n",
       "    .dataframe thead th {\n",
       "        text-align: right;\n",
       "    }\n",
       "</style>\n",
       "<table border=\"1\" class=\"dataframe\">\n",
       "  <thead>\n",
       "    <tr style=\"text-align: right;\">\n",
       "      <th></th>\n",
       "      <th>Institution</th>\n",
       "      <th>Branch</th>\n",
       "      <th>Gender</th>\n",
       "      <th>Class Level</th>\n",
       "      <th>Stress Causes</th>\n",
       "      <th>Physological effects</th>\n",
       "      <th>Physical  Effects</th>\n",
       "      <th>Social Effects</th>\n",
       "      <th>Relieve Stress Methods</th>\n",
       "    </tr>\n",
       "  </thead>\n",
       "  <tbody>\n",
       "    <tr>\n",
       "      <th>0</th>\n",
       "      <td>Vellore institute of technology</td>\n",
       "      <td>IT</td>\n",
       "      <td>Male</td>\n",
       "      <td>Freshman (Undergrad)</td>\n",
       "      <td>Family issues</td>\n",
       "      <td>Anxlety or fear</td>\n",
       "      <td>Increased blood pressure</td>\n",
       "      <td>Intolerance of group process</td>\n",
       "      <td>Sleeping</td>\n",
       "    </tr>\n",
       "    <tr>\n",
       "      <th>1</th>\n",
       "      <td>VIT Vellore</td>\n",
       "      <td>ECE</td>\n",
       "      <td>Male</td>\n",
       "      <td>Senior (Undergrad)</td>\n",
       "      <td>Studies issues</td>\n",
       "      <td>Sadness, moodiness, grief or depression</td>\n",
       "      <td>Feeling uncoordinated</td>\n",
       "      <td>Intolerance of group process</td>\n",
       "      <td>Computer Games</td>\n",
       "    </tr>\n",
       "    <tr>\n",
       "      <th>2</th>\n",
       "      <td>VIT Vellore</td>\n",
       "      <td>Mechanical</td>\n",
       "      <td>Male</td>\n",
       "      <td>Senior (Undergrad)</td>\n",
       "      <td>Studies issues</td>\n",
       "      <td>Sadness, moodiness, grief or depression</td>\n",
       "      <td>Headache</td>\n",
       "      <td>Difficulty in giving or accepting support or help</td>\n",
       "      <td>Social Media</td>\n",
       "    </tr>\n",
       "    <tr>\n",
       "      <th>3</th>\n",
       "      <td>Vellore institute of technology</td>\n",
       "      <td>IT</td>\n",
       "      <td>Male</td>\n",
       "      <td>Senior (Undergrad)</td>\n",
       "      <td>My involvement in clubs and organizations</td>\n",
       "      <td>Irritability or anger</td>\n",
       "      <td>Feeling uncoordinated</td>\n",
       "      <td>Blaming</td>\n",
       "      <td>Eating</td>\n",
       "    </tr>\n",
       "  </tbody>\n",
       "</table>\n",
       "</div>"
      ],
      "text/plain": [
       "                       Institution      Branch Gender            Class Level  \\\n",
       "0  Vellore institute of technology          IT    Male  Freshman (Undergrad)   \n",
       "1                      VIT Vellore         ECE    Male    Senior (Undergrad)   \n",
       "2                      VIT Vellore  Mechanical    Male    Senior (Undergrad)   \n",
       "3  Vellore institute of technology         IT     Male    Senior (Undergrad)   \n",
       "\n",
       "                               Stress Causes  \\\n",
       "0                              Family issues   \n",
       "1                             Studies issues   \n",
       "2                             Studies issues   \n",
       "3  My involvement in clubs and organizations   \n",
       "\n",
       "                      Physological effects        Physical  Effects   \\\n",
       "0                          Anxlety or fear  Increased blood pressure   \n",
       "1  Sadness, moodiness, grief or depression     Feeling uncoordinated   \n",
       "2  Sadness, moodiness, grief or depression                  Headache   \n",
       "3                    Irritability or anger     Feeling uncoordinated   \n",
       "\n",
       "                                      Social Effects Relieve Stress Methods  \n",
       "0                       Intolerance of group process               Sleeping  \n",
       "1                       Intolerance of group process         Computer Games  \n",
       "2  Difficulty in giving or accepting support or help           Social Media  \n",
       "3                                            Blaming                 Eating  "
      ]
     },
     "execution_count": 19,
     "metadata": {},
     "output_type": "execute_result"
    }
   ],
   "source": [
    "stress_char.head(4)"
   ]
  },
  {
   "cell_type": "markdown",
   "metadata": {},
   "source": [
    "# Cleaning Numerical Variables"
   ]
  },
  {
   "cell_type": "code",
   "execution_count": 20,
   "metadata": {},
   "outputs": [
    {
     "data": {
      "text/plain": [
       "Stress Level    0\n",
       "dtype: int64"
      ]
     },
     "execution_count": 20,
     "metadata": {},
     "output_type": "execute_result"
    }
   ],
   "source": [
    "stress_num.isnull().sum()"
   ]
  },
  {
   "cell_type": "markdown",
   "metadata": {},
   "source": [
    "# cleaning categorical variables "
   ]
  },
  {
   "cell_type": "code",
   "execution_count": 21,
   "metadata": {
    "scrolled": true
   },
   "outputs": [
    {
     "data": {
      "text/plain": [
       "Institution               0\n",
       "Branch                    0\n",
       "Gender                    0\n",
       "Class Level               0\n",
       "Stress Causes             0\n",
       "Physological effects      0\n",
       "Physical  Effects         0\n",
       "Social Effects            0\n",
       "Relieve Stress Methods    0\n",
       "dtype: int64"
      ]
     },
     "execution_count": 21,
     "metadata": {},
     "output_type": "execute_result"
    }
   ],
   "source": [
    "stress_char.isnull().sum()"
   ]
  },
  {
   "cell_type": "code",
   "execution_count": 22,
   "metadata": {},
   "outputs": [],
   "source": [
    "from sklearn.preprocessing import LabelEncoder"
   ]
  },
  {
   "cell_type": "code",
   "execution_count": 23,
   "metadata": {},
   "outputs": [],
   "source": [
    "le = LabelEncoder()"
   ]
  },
  {
   "cell_type": "code",
   "execution_count": 24,
   "metadata": {},
   "outputs": [],
   "source": [
    "stress_char = stress_char.apply(le.fit_transform)"
   ]
  },
  {
   "cell_type": "code",
   "execution_count": 25,
   "metadata": {},
   "outputs": [],
   "source": [
    "stress_final = pd.concat([stress_num,stress_char],axis=1)"
   ]
  },
  {
   "cell_type": "code",
   "execution_count": 26,
   "metadata": {},
   "outputs": [
    {
     "data": {
      "text/html": [
       "<div>\n",
       "<style scoped>\n",
       "    .dataframe tbody tr th:only-of-type {\n",
       "        vertical-align: middle;\n",
       "    }\n",
       "\n",
       "    .dataframe tbody tr th {\n",
       "        vertical-align: top;\n",
       "    }\n",
       "\n",
       "    .dataframe thead th {\n",
       "        text-align: right;\n",
       "    }\n",
       "</style>\n",
       "<table border=\"1\" class=\"dataframe\">\n",
       "  <thead>\n",
       "    <tr style=\"text-align: right;\">\n",
       "      <th></th>\n",
       "      <th>Stress Level</th>\n",
       "      <th>Institution</th>\n",
       "      <th>Branch</th>\n",
       "      <th>Gender</th>\n",
       "      <th>Class Level</th>\n",
       "      <th>Stress Causes</th>\n",
       "      <th>Physological effects</th>\n",
       "      <th>Physical  Effects</th>\n",
       "      <th>Social Effects</th>\n",
       "      <th>Relieve Stress Methods</th>\n",
       "    </tr>\n",
       "  </thead>\n",
       "  <tbody>\n",
       "    <tr>\n",
       "      <th>0</th>\n",
       "      <td>8</td>\n",
       "      <td>19</td>\n",
       "      <td>8</td>\n",
       "      <td>1</td>\n",
       "      <td>0</td>\n",
       "      <td>0</td>\n",
       "      <td>0</td>\n",
       "      <td>3</td>\n",
       "      <td>5</td>\n",
       "      <td>5</td>\n",
       "    </tr>\n",
       "    <tr>\n",
       "      <th>1</th>\n",
       "      <td>4</td>\n",
       "      <td>17</td>\n",
       "      <td>5</td>\n",
       "      <td>1</td>\n",
       "      <td>3</td>\n",
       "      <td>7</td>\n",
       "      <td>7</td>\n",
       "      <td>1</td>\n",
       "      <td>5</td>\n",
       "      <td>0</td>\n",
       "    </tr>\n",
       "    <tr>\n",
       "      <th>2</th>\n",
       "      <td>8</td>\n",
       "      <td>17</td>\n",
       "      <td>11</td>\n",
       "      <td>1</td>\n",
       "      <td>3</td>\n",
       "      <td>7</td>\n",
       "      <td>7</td>\n",
       "      <td>0</td>\n",
       "      <td>2</td>\n",
       "      <td>6</td>\n",
       "    </tr>\n",
       "    <tr>\n",
       "      <th>3</th>\n",
       "      <td>1</td>\n",
       "      <td>19</td>\n",
       "      <td>9</td>\n",
       "      <td>1</td>\n",
       "      <td>3</td>\n",
       "      <td>5</td>\n",
       "      <td>5</td>\n",
       "      <td>1</td>\n",
       "      <td>0</td>\n",
       "      <td>3</td>\n",
       "    </tr>\n",
       "  </tbody>\n",
       "</table>\n",
       "</div>"
      ],
      "text/plain": [
       "   Stress Level  Institution  Branch  Gender   Class Level  Stress Causes  \\\n",
       "0             8           19       8        1            0              0   \n",
       "1             4           17       5        1            3              7   \n",
       "2             8           17      11        1            3              7   \n",
       "3             1           19       9        1            3              5   \n",
       "\n",
       "   Physological effects  Physical  Effects   Social Effects  \\\n",
       "0                     0                   3               5   \n",
       "1                     7                   1               5   \n",
       "2                     7                   0               2   \n",
       "3                     5                   1               0   \n",
       "\n",
       "   Relieve Stress Methods  \n",
       "0                       5  \n",
       "1                       0  \n",
       "2                       6  \n",
       "3                       3  "
      ]
     },
     "execution_count": 26,
     "metadata": {},
     "output_type": "execute_result"
    }
   ],
   "source": [
    "stress_final.head(4)"
   ]
  },
  {
   "cell_type": "code",
   "execution_count": 27,
   "metadata": {},
   "outputs": [],
   "source": [
    "%matplotlib inline"
   ]
  },
  {
   "cell_type": "code",
   "execution_count": 28,
   "metadata": {},
   "outputs": [
    {
     "data": {
      "text/plain": [
       "<matplotlib.axes._subplots.AxesSubplot at 0x20da359d518>"
      ]
     },
     "execution_count": 28,
     "metadata": {},
     "output_type": "execute_result"
    },
    {
     "data": {
      "image/png": "[encoded data removed]",
      "text/plain": [
       "<Figure size 432x288 with 1 Axes>"
      ]
     },
     "metadata": {
      "needs_background": "light"
     },
     "output_type": "display_data"
    }
   ],
   "source": [
    "stress.groupby('Institution').mean().plot(kind='bar')"
   ]
  },
  {
   "cell_type": "code",
   "execution_count": 29,
   "metadata": {},
   "outputs": [
    {
     "data": {
      "text/plain": [
       "<matplotlib.axes._subplots.AxesSubplot at 0x20da39159b0>"
      ]
     },
     "execution_count": 29,
     "metadata": {},
     "output_type": "execute_result"
    },
    {
     "data": {
      "image/png": "[encoded data removed]",
      "text/plain": [
       "<Figure size 432x288 with 1 Axes>"
      ]
     },
     "metadata": {
      "needs_background": "light"
     },
     "output_type": "display_data"
    }
   ],
   "source": [
    "stress_final.groupby('Institution').mean().plot(kind='bar')"
   ]
  },
  {
   "cell_type": "code",
   "execution_count": 30,
   "metadata": {},
   "outputs": [
    {
     "data": {
      "text/plain": [
       "<matplotlib.axes._subplots.AxesSubplot at 0x20da3b04710>"
      ]
     },
     "execution_count": 30,
     "metadata": {},
     "output_type": "execute_result"
    },
    {
     "data": {
      "image/png": "[encoded data removed]",
      "text/plain": [
       "<Figure size 432x288 with 1 Axes>"
      ]
     },
     "metadata": {
      "needs_background": "light"
     },
     "output_type": "display_data"
    }
   ],
   "source": [
    "stress_final.groupby('Branch').mean().plot(kind='bar')"
   ]
  },
  {
   "cell_type": "code",
   "execution_count": 36,
   "metadata": {},
   "outputs": [
    {
     "data": {
      "text/plain": [
       "<matplotlib.axes._subplots.AxesSubplot at 0x20da3d0bcc0>"
      ]
     },
     "execution_count": 36,
     "metadata": {},
     "output_type": "execute_result"
    },
    {
     "data": {
      "image/png": "[encoded data removed]",
      "text/plain": [
       "<Figure size 432x288 with 1 Axes>"
      ]
     },
     "metadata": {
      "needs_background": "light"
     },
     "output_type": "display_data"
    }
   ],
   "source": [
    "stress.groupby('Social Effects').mean().plot(kind='bar')"
   ]
  },
  {
   "cell_type": "code",
   "execution_count": 37,
   "metadata": {},
   "outputs": [
    {
     "data": {
      "text/plain": [
       "<matplotlib.axes._subplots.AxesSubplot at 0x20da3e7c4a8>"
      ]
     },
     "execution_count": 37,
     "metadata": {},
     "output_type": "execute_result"
    },
    {
     "data": {
      "image/png": "[encoded data removed]",
      "text/plain": [
       "<Figure size 432x288 with 1 Axes>"
      ]
     },
     "metadata": {
      "needs_background": "light"
     },
     "output_type": "display_data"
    }
   ],
   "source": [
    "stress.groupby('Stress Causes').mean().plot(kind='bar')"
   ]
  },
  {
   "cell_type": "code",
   "execution_count": null,
   "metadata": {},
   "outputs": [],
   "source": []
  }
 ],
 "metadata": {
  "kernelspec": {
   "display_name": "Python 3",
   "language": "python",
   "name": "python3"
  },
  "language_info": {
   "codemirror_mode": {
    "name": "ipython",
    "version": 3
   },
   "file_extension": ".py",
   "mimetype": "text/x-python",
   "name": "python",
   "nbconvert_exporter": "python",
   "pygments_lexer": "ipython3",
   "version": "3.7.3"
  }
 },
 "nbformat": 4,
 "nbformat_minor": 2
}
