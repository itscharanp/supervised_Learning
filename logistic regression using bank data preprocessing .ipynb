{
 "cells": [
  {
   "cell_type": "code",
   "execution_count": 1,
   "metadata": {},
   "outputs": [],
   "source": [
    "import pandas as pd"
   ]
  },
  {
   "cell_type": "code",
   "execution_count": 8,
   "metadata": {},
   "outputs": [],
   "source": [
    "bank = pd.read_csv('C:/Users/welcome/Desktop/BankData.csv')"
   ]
  },
  {
   "cell_type": "code",
   "execution_count": 11,
   "metadata": {},
   "outputs": [
    {
     "data": {
      "text/html": [
       "<div>\n",
       "<style scoped>\n",
       "    .dataframe tbody tr th:only-of-type {\n",
       "        vertical-align: middle;\n",
       "    }\n",
       "\n",
       "    .dataframe tbody tr th {\n",
       "        vertical-align: top;\n",
       "    }\n",
       "\n",
       "    .dataframe thead th {\n",
       "        text-align: right;\n",
       "    }\n",
       "</style>\n",
       "<table border=\"1\" class=\"dataframe\">\n",
       "  <thead>\n",
       "    <tr style=\"text-align: right;\">\n",
       "      <th></th>\n",
       "      <th>T.ID</th>\n",
       "      <th>ACCOUNT NUMBER</th>\n",
       "      <th>NAME</th>\n",
       "      <th>CITY</th>\n",
       "      <th>BRANCH</th>\n",
       "      <th>TYPE OF LOANS</th>\n",
       "      <th>P.CODE</th>\n",
       "      <th>TYPE OF FIXED DIPOSIT</th>\n",
       "      <th>REGION</th>\n",
       "      <th>DATE</th>\n",
       "      <th>LONES AMOUNT</th>\n",
       "      <th>FIXED DIPOSIT AMOUNT</th>\n",
       "      <th>PAYBLE AMOUNT</th>\n",
       "      <th>DISCOUTS</th>\n",
       "      <th>TAX Percentage</th>\n",
       "      <th>TOTAL TAX AMOUNT</th>\n",
       "      <th>TOTAL REVENUE</th>\n",
       "    </tr>\n",
       "  </thead>\n",
       "  <tbody>\n",
       "    <tr>\n",
       "      <th>0</th>\n",
       "      <td>1</td>\n",
       "      <td>10001</td>\n",
       "      <td>ARETI RAMA</td>\n",
       "      <td>HYDERABAD</td>\n",
       "      <td>AMEERPET</td>\n",
       "      <td>CAR</td>\n",
       "      <td>500038</td>\n",
       "      <td>FD</td>\n",
       "      <td>SOUTH</td>\n",
       "      <td>19-03-2015</td>\n",
       "      <td>500000</td>\n",
       "      <td>50000</td>\n",
       "      <td>450000</td>\n",
       "      <td>10%</td>\n",
       "      <td>15%</td>\n",
       "      <td>67500.0</td>\n",
       "      <td>472500.0</td>\n",
       "    </tr>\n",
       "    <tr>\n",
       "      <th>1</th>\n",
       "      <td>2</td>\n",
       "      <td>10002</td>\n",
       "      <td>AREPALLI KRISHNA</td>\n",
       "      <td>HYDERABAD</td>\n",
       "      <td>KUKATPALLI</td>\n",
       "      <td>HOUSE</td>\n",
       "      <td>500072</td>\n",
       "      <td>RID</td>\n",
       "      <td>SOUTH</td>\n",
       "      <td>20-05-2015</td>\n",
       "      <td>100000</td>\n",
       "      <td>10000</td>\n",
       "      <td>90000</td>\n",
       "      <td>10%</td>\n",
       "      <td>10%</td>\n",
       "      <td>9000.0</td>\n",
       "      <td>99000.0</td>\n",
       "    </tr>\n",
       "    <tr>\n",
       "      <th>2</th>\n",
       "      <td>3</td>\n",
       "      <td>10003</td>\n",
       "      <td>ALLAM ANJANEYULU</td>\n",
       "      <td>HYDERABAD</td>\n",
       "      <td>BEGAMPET</td>\n",
       "      <td>EDUCATION</td>\n",
       "      <td>500016</td>\n",
       "      <td>RD</td>\n",
       "      <td>SOUTH</td>\n",
       "      <td>07-02-2015</td>\n",
       "      <td>600000</td>\n",
       "      <td>100000</td>\n",
       "      <td>500000</td>\n",
       "      <td>10%</td>\n",
       "      <td>15%</td>\n",
       "      <td>75000.0</td>\n",
       "      <td>575000.0</td>\n",
       "    </tr>\n",
       "    <tr>\n",
       "      <th>3</th>\n",
       "      <td>4</td>\n",
       "      <td>10004</td>\n",
       "      <td>AMABATI SATYANARAYANA</td>\n",
       "      <td>HYDERABAD</td>\n",
       "      <td>MOOSAPET</td>\n",
       "      <td>BUSINESS</td>\n",
       "      <td>500018</td>\n",
       "      <td>FD</td>\n",
       "      <td>SOUTH</td>\n",
       "      <td>15-05-2015</td>\n",
       "      <td>200000</td>\n",
       "      <td>50000</td>\n",
       "      <td>150000</td>\n",
       "      <td>10%</td>\n",
       "      <td>10%</td>\n",
       "      <td>15000.0</td>\n",
       "      <td>165000.0</td>\n",
       "    </tr>\n",
       "  </tbody>\n",
       "</table>\n",
       "</div>"
      ],
      "text/plain": [
       "   T.ID  ACCOUNT NUMBER                   NAME      CITY       BRANCH  \\\n",
       "0     1           10001             ARETI RAMA  HYDERABAD    AMEERPET   \n",
       "1     2           10002       AREPALLI KRISHNA  HYDERABAD  KUKATPALLI   \n",
       "2     3           10003       ALLAM ANJANEYULU  HYDERABAD    BEGAMPET   \n",
       "3     4           10004  AMABATI SATYANARAYANA  HYDERABAD    MOOSAPET   \n",
       "\n",
       "  TYPE OF LOANS  P.CODE TYPE OF FIXED DIPOSIT REGION        DATE  \\\n",
       "0           CAR  500038                    FD  SOUTH  19-03-2015   \n",
       "1         HOUSE  500072                   RID  SOUTH  20-05-2015   \n",
       "2     EDUCATION  500016                    RD  SOUTH  07-02-2015   \n",
       "3      BUSINESS  500018                    FD  SOUTH  15-05-2015   \n",
       "\n",
       "   LONES AMOUNT  FIXED DIPOSIT AMOUNT  PAYBLE AMOUNT DISCOUTS TAX Percentage  \\\n",
       "0        500000                 50000         450000      10%            15%   \n",
       "1        100000                 10000          90000      10%            10%   \n",
       "2        600000                100000         500000      10%            15%   \n",
       "3        200000                 50000         150000      10%            10%   \n",
       "\n",
       "   TOTAL TAX AMOUNT  TOTAL REVENUE  \n",
       "0           67500.0       472500.0  \n",
       "1            9000.0        99000.0  \n",
       "2           75000.0       575000.0  \n",
       "3           15000.0       165000.0  "
      ]
     },
     "execution_count": 11,
     "metadata": {},
     "output_type": "execute_result"
    }
   ],
   "source": [
    "bank.head(4)"
   ]
  },
  {
   "cell_type": "code",
   "execution_count": 12,
   "metadata": {},
   "outputs": [],
   "source": [
    "import numpy as np"
   ]
  },
  {
   "cell_type": "code",
   "execution_count": 13,
   "metadata": {},
   "outputs": [],
   "source": [
    "bank_num=bank.select_dtypes(include=[np.number])\n",
    "bank_char=bank.select_dtypes(include=[object])\n"
   ]
  },
  {
   "cell_type": "code",
   "execution_count": 14,
   "metadata": {},
   "outputs": [
    {
     "data": {
      "text/html": [
       "<div>\n",
       "<style scoped>\n",
       "    .dataframe tbody tr th:only-of-type {\n",
       "        vertical-align: middle;\n",
       "    }\n",
       "\n",
       "    .dataframe tbody tr th {\n",
       "        vertical-align: top;\n",
       "    }\n",
       "\n",
       "    .dataframe thead th {\n",
       "        text-align: right;\n",
       "    }\n",
       "</style>\n",
       "<table border=\"1\" class=\"dataframe\">\n",
       "  <thead>\n",
       "    <tr style=\"text-align: right;\">\n",
       "      <th></th>\n",
       "      <th>T.ID</th>\n",
       "      <th>ACCOUNT NUMBER</th>\n",
       "      <th>LONES AMOUNT</th>\n",
       "      <th>FIXED DIPOSIT AMOUNT</th>\n",
       "      <th>PAYBLE AMOUNT</th>\n",
       "      <th>TOTAL TAX AMOUNT</th>\n",
       "      <th>TOTAL REVENUE</th>\n",
       "    </tr>\n",
       "  </thead>\n",
       "  <tbody>\n",
       "    <tr>\n",
       "      <th>0</th>\n",
       "      <td>1</td>\n",
       "      <td>10001</td>\n",
       "      <td>500000</td>\n",
       "      <td>50000</td>\n",
       "      <td>450000</td>\n",
       "      <td>67500.0</td>\n",
       "      <td>472500.0</td>\n",
       "    </tr>\n",
       "    <tr>\n",
       "      <th>1</th>\n",
       "      <td>2</td>\n",
       "      <td>10002</td>\n",
       "      <td>100000</td>\n",
       "      <td>10000</td>\n",
       "      <td>90000</td>\n",
       "      <td>9000.0</td>\n",
       "      <td>99000.0</td>\n",
       "    </tr>\n",
       "    <tr>\n",
       "      <th>2</th>\n",
       "      <td>3</td>\n",
       "      <td>10003</td>\n",
       "      <td>600000</td>\n",
       "      <td>100000</td>\n",
       "      <td>500000</td>\n",
       "      <td>75000.0</td>\n",
       "      <td>575000.0</td>\n",
       "    </tr>\n",
       "    <tr>\n",
       "      <th>3</th>\n",
       "      <td>4</td>\n",
       "      <td>10004</td>\n",
       "      <td>200000</td>\n",
       "      <td>50000</td>\n",
       "      <td>150000</td>\n",
       "      <td>15000.0</td>\n",
       "      <td>165000.0</td>\n",
       "    </tr>\n",
       "    <tr>\n",
       "      <th>4</th>\n",
       "      <td>5</td>\n",
       "      <td>10005</td>\n",
       "      <td>400000</td>\n",
       "      <td>20000</td>\n",
       "      <td>380000</td>\n",
       "      <td>57000.0</td>\n",
       "      <td>437000.0</td>\n",
       "    </tr>\n",
       "  </tbody>\n",
       "</table>\n",
       "</div>"
      ],
      "text/plain": [
       "   T.ID  ACCOUNT NUMBER  LONES AMOUNT  FIXED DIPOSIT AMOUNT  PAYBLE AMOUNT  \\\n",
       "0     1           10001        500000                 50000         450000   \n",
       "1     2           10002        100000                 10000          90000   \n",
       "2     3           10003        600000                100000         500000   \n",
       "3     4           10004        200000                 50000         150000   \n",
       "4     5           10005        400000                 20000         380000   \n",
       "\n",
       "   TOTAL TAX AMOUNT  TOTAL REVENUE  \n",
       "0           67500.0       472500.0  \n",
       "1            9000.0        99000.0  \n",
       "2           75000.0       575000.0  \n",
       "3           15000.0       165000.0  \n",
       "4           57000.0       437000.0  "
      ]
     },
     "execution_count": 14,
     "metadata": {},
     "output_type": "execute_result"
    }
   ],
   "source": [
    "bank_num.head()"
   ]
  },
  {
   "cell_type": "code",
   "execution_count": 15,
   "metadata": {},
   "outputs": [
    {
     "data": {
      "text/html": [
       "<div>\n",
       "<style scoped>\n",
       "    .dataframe tbody tr th:only-of-type {\n",
       "        vertical-align: middle;\n",
       "    }\n",
       "\n",
       "    .dataframe tbody tr th {\n",
       "        vertical-align: top;\n",
       "    }\n",
       "\n",
       "    .dataframe thead th {\n",
       "        text-align: right;\n",
       "    }\n",
       "</style>\n",
       "<table border=\"1\" class=\"dataframe\">\n",
       "  <thead>\n",
       "    <tr style=\"text-align: right;\">\n",
       "      <th></th>\n",
       "      <th>NAME</th>\n",
       "      <th>CITY</th>\n",
       "      <th>BRANCH</th>\n",
       "      <th>TYPE OF LOANS</th>\n",
       "      <th>P.CODE</th>\n",
       "      <th>TYPE OF FIXED DIPOSIT</th>\n",
       "      <th>REGION</th>\n",
       "      <th>DATE</th>\n",
       "      <th>DISCOUTS</th>\n",
       "      <th>TAX Percentage</th>\n",
       "    </tr>\n",
       "  </thead>\n",
       "  <tbody>\n",
       "    <tr>\n",
       "      <th>0</th>\n",
       "      <td>ARETI RAMA</td>\n",
       "      <td>HYDERABAD</td>\n",
       "      <td>AMEERPET</td>\n",
       "      <td>CAR</td>\n",
       "      <td>500038</td>\n",
       "      <td>FD</td>\n",
       "      <td>SOUTH</td>\n",
       "      <td>19-03-2015</td>\n",
       "      <td>10%</td>\n",
       "      <td>15%</td>\n",
       "    </tr>\n",
       "    <tr>\n",
       "      <th>1</th>\n",
       "      <td>AREPALLI KRISHNA</td>\n",
       "      <td>HYDERABAD</td>\n",
       "      <td>KUKATPALLI</td>\n",
       "      <td>HOUSE</td>\n",
       "      <td>500072</td>\n",
       "      <td>RID</td>\n",
       "      <td>SOUTH</td>\n",
       "      <td>20-05-2015</td>\n",
       "      <td>10%</td>\n",
       "      <td>10%</td>\n",
       "    </tr>\n",
       "    <tr>\n",
       "      <th>2</th>\n",
       "      <td>ALLAM ANJANEYULU</td>\n",
       "      <td>HYDERABAD</td>\n",
       "      <td>BEGAMPET</td>\n",
       "      <td>EDUCATION</td>\n",
       "      <td>500016</td>\n",
       "      <td>RD</td>\n",
       "      <td>SOUTH</td>\n",
       "      <td>07-02-2015</td>\n",
       "      <td>10%</td>\n",
       "      <td>15%</td>\n",
       "    </tr>\n",
       "    <tr>\n",
       "      <th>3</th>\n",
       "      <td>AMABATI SATYANARAYANA</td>\n",
       "      <td>HYDERABAD</td>\n",
       "      <td>MOOSAPET</td>\n",
       "      <td>BUSINESS</td>\n",
       "      <td>500018</td>\n",
       "      <td>FD</td>\n",
       "      <td>SOUTH</td>\n",
       "      <td>15-05-2015</td>\n",
       "      <td>10%</td>\n",
       "      <td>10%</td>\n",
       "    </tr>\n",
       "    <tr>\n",
       "      <th>4</th>\n",
       "      <td>ALAMURI VENKATARAMANA</td>\n",
       "      <td>HYDERABAD</td>\n",
       "      <td>AMEERPET</td>\n",
       "      <td>CAR</td>\n",
       "      <td>500038</td>\n",
       "      <td>RID</td>\n",
       "      <td>SOUTH</td>\n",
       "      <td>10-07-2015</td>\n",
       "      <td>10%</td>\n",
       "      <td>15%</td>\n",
       "    </tr>\n",
       "  </tbody>\n",
       "</table>\n",
       "</div>"
      ],
      "text/plain": [
       "                    NAME      CITY       BRANCH TYPE OF LOANS  P.CODE  \\\n",
       "0             ARETI RAMA  HYDERABAD    AMEERPET           CAR  500038   \n",
       "1       AREPALLI KRISHNA  HYDERABAD  KUKATPALLI         HOUSE  500072   \n",
       "2       ALLAM ANJANEYULU  HYDERABAD    BEGAMPET     EDUCATION  500016   \n",
       "3  AMABATI SATYANARAYANA  HYDERABAD    MOOSAPET      BUSINESS  500018   \n",
       "4  ALAMURI VENKATARAMANA  HYDERABAD    AMEERPET           CAR  500038   \n",
       "\n",
       "  TYPE OF FIXED DIPOSIT REGION        DATE DISCOUTS TAX Percentage  \n",
       "0                    FD  SOUTH  19-03-2015      10%            15%  \n",
       "1                   RID  SOUTH  20-05-2015      10%            10%  \n",
       "2                    RD  SOUTH  07-02-2015      10%            15%  \n",
       "3                    FD  SOUTH  15-05-2015      10%            10%  \n",
       "4                   RID  SOUTH  10-07-2015      10%            15%  "
      ]
     },
     "execution_count": 15,
     "metadata": {},
     "output_type": "execute_result"
    }
   ],
   "source": [
    "bank_char.head()"
   ]
  },
  {
   "cell_type": "markdown",
   "metadata": {},
   "source": [
    "# Cleaning Numerical Variables"
   ]
  },
  {
   "cell_type": "code",
   "execution_count": 16,
   "metadata": {},
   "outputs": [
    {
     "data": {
      "text/plain": [
       "T.ID                    0\n",
       "ACCOUNT NUMBER          0\n",
       "LONES AMOUNT            0\n",
       "FIXED DIPOSIT AMOUNT    0\n",
       "PAYBLE AMOUNT           0\n",
       "TOTAL TAX AMOUNT        0\n",
       "TOTAL REVENUE           0\n",
       "dtype: int64"
      ]
     },
     "execution_count": 16,
     "metadata": {},
     "output_type": "execute_result"
    }
   ],
   "source": [
    "bank_num.isnull().sum()"
   ]
  },
  {
   "cell_type": "markdown",
   "metadata": {},
   "source": [
    "#    cleaning categorical variables"
   ]
  },
  {
   "cell_type": "code",
   "execution_count": 17,
   "metadata": {},
   "outputs": [
    {
     "data": {
      "text/plain": [
       "NAME                     0\n",
       "CITY                     0\n",
       "BRANCH                   0\n",
       "TYPE OF LOANS            0\n",
       "P.CODE                   0\n",
       "TYPE OF FIXED DIPOSIT    0\n",
       "REGION                   0\n",
       "DATE                     0\n",
       "DISCOUTS                 0\n",
       "TAX Percentage           0\n",
       "dtype: int64"
      ]
     },
     "execution_count": 17,
     "metadata": {},
     "output_type": "execute_result"
    }
   ],
   "source": [
    "bank_char.isnull().sum()"
   ]
  },
  {
   "cell_type": "code",
   "execution_count": 18,
   "metadata": {},
   "outputs": [],
   "source": [
    "from sklearn.preprocessing import LabelEncoder"
   ]
  },
  {
   "cell_type": "code",
   "execution_count": 19,
   "metadata": {},
   "outputs": [],
   "source": [
    "le = LabelEncoder()"
   ]
  },
  {
   "cell_type": "code",
   "execution_count": 20,
   "metadata": {},
   "outputs": [],
   "source": [
    "bank_char = bank_char.apply(le.fit_transform)"
   ]
  },
  {
   "cell_type": "code",
   "execution_count": 21,
   "metadata": {},
   "outputs": [],
   "source": [
    "bank_final = pd.concat([bank_num,bank_char],axis=1)"
   ]
  },
  {
   "cell_type": "code",
   "execution_count": 22,
   "metadata": {},
   "outputs": [
    {
     "data": {
      "text/html": [
       "<div>\n",
       "<style scoped>\n",
       "    .dataframe tbody tr th:only-of-type {\n",
       "        vertical-align: middle;\n",
       "    }\n",
       "\n",
       "    .dataframe tbody tr th {\n",
       "        vertical-align: top;\n",
       "    }\n",
       "\n",
       "    .dataframe thead th {\n",
       "        text-align: right;\n",
       "    }\n",
       "</style>\n",
       "<table border=\"1\" class=\"dataframe\">\n",
       "  <thead>\n",
       "    <tr style=\"text-align: right;\">\n",
       "      <th></th>\n",
       "      <th>T.ID</th>\n",
       "      <th>ACCOUNT NUMBER</th>\n",
       "      <th>LONES AMOUNT</th>\n",
       "      <th>FIXED DIPOSIT AMOUNT</th>\n",
       "      <th>PAYBLE AMOUNT</th>\n",
       "      <th>TOTAL TAX AMOUNT</th>\n",
       "      <th>TOTAL REVENUE</th>\n",
       "      <th>NAME</th>\n",
       "      <th>CITY</th>\n",
       "      <th>BRANCH</th>\n",
       "      <th>TYPE OF LOANS</th>\n",
       "      <th>P.CODE</th>\n",
       "      <th>TYPE OF FIXED DIPOSIT</th>\n",
       "      <th>REGION</th>\n",
       "      <th>DATE</th>\n",
       "      <th>DISCOUTS</th>\n",
       "      <th>TAX Percentage</th>\n",
       "    </tr>\n",
       "  </thead>\n",
       "  <tbody>\n",
       "    <tr>\n",
       "      <th>0</th>\n",
       "      <td>1</td>\n",
       "      <td>10001</td>\n",
       "      <td>500000</td>\n",
       "      <td>50000</td>\n",
       "      <td>450000</td>\n",
       "      <td>67500.0</td>\n",
       "      <td>472500.0</td>\n",
       "      <td>9</td>\n",
       "      <td>4</td>\n",
       "      <td>2</td>\n",
       "      <td>1</td>\n",
       "      <td>12</td>\n",
       "      <td>0</td>\n",
       "      <td>2</td>\n",
       "      <td>7</td>\n",
       "      <td>0</td>\n",
       "      <td>1</td>\n",
       "    </tr>\n",
       "    <tr>\n",
       "      <th>1</th>\n",
       "      <td>2</td>\n",
       "      <td>10002</td>\n",
       "      <td>100000</td>\n",
       "      <td>10000</td>\n",
       "      <td>90000</td>\n",
       "      <td>9000.0</td>\n",
       "      <td>99000.0</td>\n",
       "      <td>8</td>\n",
       "      <td>4</td>\n",
       "      <td>12</td>\n",
       "      <td>3</td>\n",
       "      <td>13</td>\n",
       "      <td>2</td>\n",
       "      <td>2</td>\n",
       "      <td>8</td>\n",
       "      <td>0</td>\n",
       "      <td>0</td>\n",
       "    </tr>\n",
       "    <tr>\n",
       "      <th>2</th>\n",
       "      <td>3</td>\n",
       "      <td>10003</td>\n",
       "      <td>600000</td>\n",
       "      <td>100000</td>\n",
       "      <td>500000</td>\n",
       "      <td>75000.0</td>\n",
       "      <td>575000.0</td>\n",
       "      <td>4</td>\n",
       "      <td>4</td>\n",
       "      <td>7</td>\n",
       "      <td>2</td>\n",
       "      <td>10</td>\n",
       "      <td>1</td>\n",
       "      <td>2</td>\n",
       "      <td>0</td>\n",
       "      <td>0</td>\n",
       "      <td>1</td>\n",
       "    </tr>\n",
       "    <tr>\n",
       "      <th>3</th>\n",
       "      <td>4</td>\n",
       "      <td>10004</td>\n",
       "      <td>200000</td>\n",
       "      <td>50000</td>\n",
       "      <td>150000</td>\n",
       "      <td>15000.0</td>\n",
       "      <td>165000.0</td>\n",
       "      <td>5</td>\n",
       "      <td>4</td>\n",
       "      <td>15</td>\n",
       "      <td>0</td>\n",
       "      <td>11</td>\n",
       "      <td>0</td>\n",
       "      <td>2</td>\n",
       "      <td>5</td>\n",
       "      <td>0</td>\n",
       "      <td>0</td>\n",
       "    </tr>\n",
       "    <tr>\n",
       "      <th>4</th>\n",
       "      <td>5</td>\n",
       "      <td>10005</td>\n",
       "      <td>400000</td>\n",
       "      <td>20000</td>\n",
       "      <td>380000</td>\n",
       "      <td>57000.0</td>\n",
       "      <td>437000.0</td>\n",
       "      <td>3</td>\n",
       "      <td>4</td>\n",
       "      <td>2</td>\n",
       "      <td>1</td>\n",
       "      <td>12</td>\n",
       "      <td>2</td>\n",
       "      <td>2</td>\n",
       "      <td>1</td>\n",
       "      <td>0</td>\n",
       "      <td>1</td>\n",
       "    </tr>\n",
       "  </tbody>\n",
       "</table>\n",
       "</div>"
      ],
      "text/plain": [
       "   T.ID  ACCOUNT NUMBER  LONES AMOUNT  FIXED DIPOSIT AMOUNT  PAYBLE AMOUNT  \\\n",
       "0     1           10001        500000                 50000         450000   \n",
       "1     2           10002        100000                 10000          90000   \n",
       "2     3           10003        600000                100000         500000   \n",
       "3     4           10004        200000                 50000         150000   \n",
       "4     5           10005        400000                 20000         380000   \n",
       "\n",
       "   TOTAL TAX AMOUNT  TOTAL REVENUE  NAME  CITY   BRANCH  TYPE OF LOANS  \\\n",
       "0           67500.0       472500.0     9      4       2              1   \n",
       "1            9000.0        99000.0     8      4      12              3   \n",
       "2           75000.0       575000.0     4      4       7              2   \n",
       "3           15000.0       165000.0     5      4      15              0   \n",
       "4           57000.0       437000.0     3      4       2              1   \n",
       "\n",
       "   P.CODE  TYPE OF FIXED DIPOSIT  REGION  DATE  DISCOUTS  TAX Percentage  \n",
       "0      12                      0       2     7         0               1  \n",
       "1      13                      2       2     8         0               0  \n",
       "2      10                      1       2     0         0               1  \n",
       "3      11                      0       2     5         0               0  \n",
       "4      12                      2       2     1         0               1  "
      ]
     },
     "execution_count": 22,
     "metadata": {},
     "output_type": "execute_result"
    }
   ],
   "source": [
    "bank_final.head()"
   ]
  },
  {
   "cell_type": "markdown",
   "metadata": {},
   "source": [
    "# TRAIN MODEL"
   ]
  },
  {
   "cell_type": "code",
   "execution_count": 29,
   "metadata": {},
   "outputs": [],
   "source": [
    "from sklearn.model_selection import train_test_split"
   ]
  },
  {
   "cell_type": "code",
   "execution_count": 27,
   "metadata": {},
   "outputs": [],
   "source": [
    "x=pd.DataFrame(bank_final['TYPE OF FIXED DIPOSIT'])"
   ]
  },
  {
   "cell_type": "code",
   "execution_count": 28,
   "metadata": {},
   "outputs": [],
   "source": [
    "y=pd.DataFrame(bank_final['TAX Percentage'])"
   ]
  },
  {
   "cell_type": "code",
   "execution_count": 30,
   "metadata": {},
   "outputs": [],
   "source": [
    "x_train, x_test, y_train, y_test = train_test_split(x, y, test_size=0.33, random_state=42)"
   ]
  },
  {
   "cell_type": "markdown",
   "metadata": {},
   "source": [
    "# Model Selection"
   ]
  },
  {
   "cell_type": "code",
   "execution_count": 31,
   "metadata": {},
   "outputs": [],
   "source": [
    "from sklearn.linear_model import LogisticRegression"
   ]
  },
  {
   "cell_type": "code",
   "execution_count": 33,
   "metadata": {},
   "outputs": [],
   "source": [
    "lr=LogisticRegression()"
   ]
  },
  {
   "cell_type": "code",
   "execution_count": 34,
   "metadata": {},
   "outputs": [
    {
     "name": "stderr",
     "output_type": "stream",
     "text": [
      "C:\\ProgramData\\Anaconda3\\lib\\site-packages\\sklearn\\linear_model\\logistic.py:433: FutureWarning: Default solver will be changed to 'lbfgs' in 0.22. Specify a solver to silence this warning.\n",
      "  FutureWarning)\n",
      "C:\\ProgramData\\Anaconda3\\lib\\site-packages\\sklearn\\utils\\validation.py:761: DataConversionWarning: A column-vector y was passed when a 1d array was expected. Please change the shape of y to (n_samples, ), for example using ravel().\n",
      "  y = column_or_1d(y, warn=True)\n",
      "C:\\ProgramData\\Anaconda3\\lib\\site-packages\\sklearn\\linear_model\\logistic.py:460: FutureWarning: Default multi_class will be changed to 'auto' in 0.22. Specify the multi_class option to silence this warning.\n",
      "  \"this warning.\", FutureWarning)\n"
     ]
    },
    {
     "data": {
      "text/plain": [
       "LogisticRegression(C=1.0, class_weight=None, dual=False, fit_intercept=True,\n",
       "          intercept_scaling=1, max_iter=100, multi_class='warn',\n",
       "          n_jobs=None, penalty='l2', random_state=None, solver='warn',\n",
       "          tol=0.0001, verbose=0, warm_start=False)"
      ]
     },
     "execution_count": 34,
     "metadata": {},
     "output_type": "execute_result"
    }
   ],
   "source": [
    "lr.fit(x_train,y_train)"
   ]
  },
  {
   "cell_type": "code",
   "execution_count": 35,
   "metadata": {},
   "outputs": [],
   "source": [
    "pre=lr.predict(x_test)"
   ]
  },
  {
   "cell_type": "code",
   "execution_count": 36,
   "metadata": {},
   "outputs": [],
   "source": [
    "from sklearn.metrics import classification_report"
   ]
  },
  {
   "cell_type": "code",
   "execution_count": 37,
   "metadata": {},
   "outputs": [
    {
     "name": "stderr",
     "output_type": "stream",
     "text": [
      "C:\\ProgramData\\Anaconda3\\lib\\site-packages\\sklearn\\metrics\\classification.py:1143: UndefinedMetricWarning: Precision and F-score are ill-defined and being set to 0.0 in labels with no predicted samples.\n",
      "  'precision', 'predicted', average, warn_for)\n"
     ]
    },
    {
     "data": {
      "text/plain": [
       "'              precision    recall  f1-score   support\\n\\n           0       0.29      1.00      0.45         5\\n           1       0.00      0.00      0.00        10\\n           2       0.38      0.55      0.44        11\\n           3       0.00      0.00      0.00         7\\n\\n   micro avg       0.33      0.33      0.33        33\\n   macro avg       0.17      0.39      0.22        33\\nweighted avg       0.17      0.33      0.22        33\\n'"
      ]
     },
     "execution_count": 37,
     "metadata": {},
     "output_type": "execute_result"
    }
   ],
   "source": [
    "classification_report(y_test,pre)"
   ]
  },
  {
   "cell_type": "code",
   "execution_count": 38,
   "metadata": {},
   "outputs": [],
   "source": [
    "from sklearn.metrics import confusion_matrix"
   ]
  },
  {
   "cell_type": "code",
   "execution_count": 40,
   "metadata": {},
   "outputs": [
    {
     "data": {
      "text/plain": [
       "array([[5, 0, 0, 0],\n",
       "       [3, 0, 7, 0],\n",
       "       [5, 0, 6, 0],\n",
       "       [4, 0, 3, 0]], dtype=int64)"
      ]
     },
     "execution_count": 40,
     "metadata": {},
     "output_type": "execute_result"
    }
   ],
   "source": [
    "confusion_matrix(y_test,pre)"
   ]
  },
  {
   "cell_type": "markdown",
   "metadata": {},
   "source": [
    "# Acuraccy"
   ]
  },
  {
   "cell_type": "code",
   "execution_count": 41,
   "metadata": {},
   "outputs": [],
   "source": [
    "from sklearn.metrics import accuracy_score"
   ]
  },
  {
   "cell_type": "code",
   "execution_count": 42,
   "metadata": {},
   "outputs": [
    {
     "data": {
      "text/plain": [
       "0.3333333333333333"
      ]
     },
     "execution_count": 42,
     "metadata": {},
     "output_type": "execute_result"
    }
   ],
   "source": [
    "accuracy_score(y_test,pre)"
   ]
  },
  {
   "cell_type": "markdown",
   "metadata": {},
   "source": [
    "# Conclusion"
   ]
  },
  {
   "cell_type": "code",
   "execution_count": 43,
   "metadata": {},
   "outputs": [],
   "source": [
    "#Live bank data is taken and preprocessed. All the categorical variables are transformed into the numerical values. \n",
    "# Logistic regression is the Model selected. Classifications(TYPE OF FIXED DIPOSIT,TAX percentage) are considered and fitted into the \n",
    "#x and y variables for training the model. classification report is obtained and accuracy obtained  by the trained model is 0.333333."
   ]
  },
  {
   "cell_type": "code",
   "execution_count": null,
   "metadata": {},
   "outputs": [],
   "source": []
  }
 ],
 "metadata": {
  "kernelspec": {
   "display_name": "Python 3",
   "language": "python",
   "name": "python3"
  },
  "language_info": {
   "codemirror_mode": {
    "name": "ipython",
    "version": 3
   },
   "file_extension": ".py",
   "mimetype": "text/x-python",
   "name": "python",
   "nbconvert_exporter": "python",
   "pygments_lexer": "ipython3",
   "version": "3.7.3"
  }
 },
 "nbformat": 4,
 "nbformat_minor": 2
}
